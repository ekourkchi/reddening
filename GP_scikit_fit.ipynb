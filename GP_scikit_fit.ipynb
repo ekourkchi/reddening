{
 "cells": [
  {
   "cell_type": "code",
   "execution_count": 2,
   "metadata": {},
   "outputs": [
    {
     "data": {
      "image/png": "[encoded data removed]",
      "text/plain": [
       "<Figure size 432x288 with 1 Axes>"
      ]
     },
     "metadata": {},
     "output_type": "display_data"
    }
   ],
   "source": [
    "import numpy as np\n",
    "import matplotlib.pyplot as plt\n",
    "\n",
    "def kernel(X1, X2, l=1.0, sigma_f=1.0):\n",
    "    ''' Isotropic squared exponential kernel. Computes a covariance matrix from points in X1 and X2. Args: X1: Array of m points (m x d). X2: Array of n points (n x d). Returns: Covariance matrix (m x n). '''\n",
    "    sqdist = np.sum(X1**2, 1).reshape(-1, 1) + np.sum(X2**2, 1) - 2 * np.dot(X1, X2.T)\n",
    "    return sigma_f**2 * np.exp(-0.5 / l**2 * sqdist)\n",
    "\n",
    "\n",
    "# Prior\n",
    "%matplotlib inline\n",
    "\n",
    "from gaussian_processes_util import plot_gp\n",
    "\n",
    "# Finite number of points\n",
    "X = np.arange(-5, 5, 0.2).reshape(-1, 1)\n",
    "\n",
    "\n",
    "# Mean and covariance of the prior\n",
    "mu = np.zeros(X.shape)\n",
    "cov = kernel(X, X)\n",
    "\n",
    "# Draw three samples from the prior\n",
    "samples = np.random.multivariate_normal(mu.ravel(), cov, 3)\n",
    "\n",
    "# Plot GP mean, confidence interval and samples \n",
    "plot_gp(mu, cov, X, samples=samples)"
   ]
  },
  {
   "cell_type": "code",
   "execution_count": 3,
   "metadata": {},
   "outputs": [
    {
     "ename": "NameError",
     "evalue": "name 'posterior_predictive' is not defined",
     "output_type": "error",
     "traceback": [
      "\u001b[0;31m---------------------------------------------------------------------------\u001b[0m",
      "\u001b[0;31mNameError\u001b[0m                                 Traceback (most recent call last)",
      "\u001b[0;32m<ipython-input-3-8ee8b817599e>\u001b[0m in \u001b[0;36m<module>\u001b[0;34m()\u001b[0m\n\u001b[1;32m      4\u001b[0m \u001b[0;34m\u001b[0m\u001b[0m\n\u001b[1;32m      5\u001b[0m \u001b[0;31m# Compute mean and covariance of the posterior predictive distribution\u001b[0m\u001b[0;34m\u001b[0m\u001b[0;34m\u001b[0m\u001b[0m\n\u001b[0;32m----> 6\u001b[0;31m \u001b[0mmu_s\u001b[0m\u001b[0;34m,\u001b[0m \u001b[0mcov_s\u001b[0m \u001b[0;34m=\u001b[0m \u001b[0mposterior_predictive\u001b[0m\u001b[0;34m(\u001b[0m\u001b[0mX\u001b[0m\u001b[0;34m,\u001b[0m \u001b[0mX_train\u001b[0m\u001b[0;34m,\u001b[0m \u001b[0mY_train\u001b[0m\u001b[0;34m)\u001b[0m\u001b[0;34m\u001b[0m\u001b[0m\n\u001b[0m\u001b[1;32m      7\u001b[0m \u001b[0;34m\u001b[0m\u001b[0m\n\u001b[1;32m      8\u001b[0m \u001b[0msamples\u001b[0m \u001b[0;34m=\u001b[0m \u001b[0mnp\u001b[0m\u001b[0;34m.\u001b[0m\u001b[0mrandom\u001b[0m\u001b[0;34m.\u001b[0m\u001b[0mmultivariate_normal\u001b[0m\u001b[0;34m(\u001b[0m\u001b[0mmu_s\u001b[0m\u001b[0;34m.\u001b[0m\u001b[0mravel\u001b[0m\u001b[0;34m(\u001b[0m\u001b[0;34m)\u001b[0m\u001b[0;34m,\u001b[0m \u001b[0mcov_s\u001b[0m\u001b[0;34m,\u001b[0m \u001b[0;36m3\u001b[0m\u001b[0;34m)\u001b[0m\u001b[0;34m\u001b[0m\u001b[0m\n",
      "\u001b[0;31mNameError\u001b[0m: name 'posterior_predictive' is not defined"
     ]
    }
   ],
   "source": [
    "# Noise free training data\n",
    "X_train = np.array([-5,-4, -3, -2, -1, 0,1,2,3,4,5]).reshape(-1, 1)\n",
    "Y_train = 2.*X_train+0.3*X_train**2\n",
    "\n",
    "# Compute mean and covariance of the posterior predictive distribution\n",
    "mu_s, cov_s = posterior_predictive(X, X_train, Y_train)\n",
    "\n",
    "samples = np.random.multivariate_normal(mu_s.ravel(), cov_s, 3)\n",
    "plot_gp(mu_s, cov_s, X, X_train=X_train, Y_train=Y_train, samples=samples)\n",
    "\n",
    "plt.plot(X_train,2.*X_train)"
   ]
  },
  {
   "cell_type": "code",
   "execution_count": null,
   "metadata": {},
   "outputs": [],
   "source": [
    "import celerite\n",
    "from celerite import terms\n",
    "\n",
    "kernel = terms.RealTerm(log_a=np.log(np.var(Y_train)), log_c=-np.log(10.0))\n",
    "\n",
    "\n",
    "\n",
    "class CustomTerm(terms.Term):\n",
    "    parameter_names = (\"log_a\", \"log_b\", \"log_c\", \"log_P\")\n",
    "\n",
    "    def get_real_coefficients(self, params):\n",
    "        log_a, log_b, log_c, log_P = params\n",
    "        b = np.exp(log_b)\n",
    "        return (\n",
    "            np.exp(log_a) * (1.0 + b) / (2.0 + b), np.exp(log_c),\n",
    "        )\n",
    "\n",
    "    def get_complex_coefficients(self, params):\n",
    "        log_a, log_b, log_c, log_P = params\n",
    "        b = np.exp(log_b)\n",
    "        return (\n",
    "            np.exp(log_a) / (2.0 + b), 0.0,\n",
    "            np.exp(log_c), 2*np.pi*np.exp(-log_P),\n",
    "        )"
   ]
  },
  {
   "cell_type": "code",
   "execution_count": null,
   "metadata": {},
   "outputs": [],
   "source": [
    "noise = 0.4\n",
    "\n",
    "# Noisy training data\n",
    "X_train = np.arange(-3, 4, 1).reshape(-1, 1)\n",
    "Y_train = 2.*X_train+0.3*X_train**2 + noise * np.random.randn(*X_train.shape)\n",
    "\n",
    "# Compute mean and covariance of the posterior predictive distribution\n",
    "mu_s, cov_s = posterior_predictive(X, X_train, Y_train, sigma_y=noise)\n",
    "\n",
    "samples = np.random.multivariate_normal(mu_s.ravel(), cov_s, 3)\n",
    "plot_gp(mu_s, cov_s, X, X_train=X_train, Y_train=Y_train, samples=samples)\n",
    "\n",
    "\n",
    "plt.plot(X,2.*X+0.3*X**2)\n"
   ]
  },
  {
   "cell_type": "code",
   "execution_count": null,
   "metadata": {},
   "outputs": [],
   "source": [
    "from numpy.linalg import cholesky\n",
    "from scipy.optimize import minimize\n",
    "\n",
    "def nll_fn(X_train, Y_train, noise):\n",
    "    ''' Returns a function that computes the negative log-likelihood for training data X_train and Y_train and given noise level. Args: X_train: training locations (m x d). Y_train: training targets (m x 1). noise: known noise level of Y_train. Returns: Minimization objective. '''\n",
    "    def step(theta):\n",
    "        K = kernel(X_train, X_train, l=theta[0], sigma_f=theta[1]) + \\\n",
    "            noise**2 * np.eye(len(X_train))\n",
    "        # Compute determinant via Cholesky decomposition\n",
    "        return np.sum(np.log(np.diagonal(cholesky(K)))) + \\\n",
    "               0.5 * Y_train.T.dot(inv(K).dot(Y_train)) + \\\n",
    "               0.5 * len(X_train) * np.log(2*np.pi)\n",
    "    return step\n",
    "\n",
    "# Minimize the negative log-likelihood w.r.t. parameters l and sigma_f.\n",
    "# We should actually run the minimization several times with different\n",
    "# initializations to avoid local minima but this is skipped here for\n",
    "# simplicity.\n",
    "res = minimize(nll_fn(X_train, Y_train, noise), [1, 1], \n",
    "               bounds=((1e-5, None), (1e-5, None)),\n",
    "               method='L-BFGS-B')\n",
    "\n",
    "print res\n",
    "# Store the optimization results in global variables so that we can\n",
    "# compare it later with the results from other implementations.\n",
    "l_opt, sigma_f_opt = res.x\n",
    "\n",
    "# Compute the prosterior predictive statistics with optimized kernel parameters and plot the results\n",
    "mu_s, cov_s = posterior_predictive(X, X_train, Y_train, l=l_opt, sigma_f=sigma_f_opt, sigma_y=noise)\n",
    "plot_gp(mu_s, cov_s, X, X_train=X_train, Y_train=Y_train)\n",
    "\n",
    "plt.plot(X,2.*X+0.3*X**2)\n"
   ]
  },
  {
   "cell_type": "code",
   "execution_count": null,
   "metadata": {},
   "outputs": [],
   "source": [
    "def nll_fn(X_train, Y_train, noise):\n",
    "    ''' Returns a function that computes the negative log-likelihood for training data X_train and Y_train and given noise level. Args: X_train: training locations (m x d). Y_train: training targets (m x 1). noise: known noise level of Y_train. Returns: Minimization objective. '''\n",
    "    def step(theta):\n",
    "        \n",
    "        Y_train_d = Y_train-theta[2]*X_train\n",
    "        \n",
    "        K = kernel(X_train, X_train, l=theta[0], sigma_f=theta[1]) + \\\n",
    "            noise**2 * np.eye(len(X_train))\n",
    "        # Compute determinant via Cholesky decomposition\n",
    "        return np.sum(np.log(np.diagonal(cholesky(K)))) + \\\n",
    "               0.5 * Y_train_d.T.dot(inv(K).dot(Y_train_d)) + \\\n",
    "               0.5 * len(X_train) * np.log(2*np.pi)\n",
    "    return step\n",
    "\n",
    "# Minimize the negative log-likelihood w.r.t. parameters l and sigma_f.\n",
    "# We should actually run the minimization several times with different\n",
    "# initializations to avoid local minima but this is skipped here for\n",
    "# simplicity.\n",
    "res = minimize(nll_fn(X_train, Y_train, noise), [1, 1,2], \n",
    "               bounds=((1e-5, None), (1e-5, None), (1e-5, None)),\n",
    "               method='L-BFGS-B')\n",
    "\n",
    "print(res)\n",
    "\n",
    "# Store the optimization results in global variables so that we can\n",
    "# compare it later with the results from other implementations.\n",
    "l_opt, sigma_f_opt, alpha_opt = res.x\n",
    "\n",
    "# Compute the prosterior predictive statistics with optimized kernel parameters and plot the results\n",
    "mu_s, cov_s = posterior_predictive(X, X_train, Y_train-alpha_opt*X_train, l=l_opt, sigma_f=sigma_f_opt, sigma_y=noise)\n",
    "plot_gp(mu_s+alpha_opt*X, cov_s, X, X_train=X_train, Y_train=Y_train)\n",
    "\n",
    "plt.plot(X,2.*X+0.3*X**2)\n"
   ]
  },
  {
   "cell_type": "code",
   "execution_count": null,
   "metadata": {},
   "outputs": [],
   "source": [
    "def nll_fn(X_train, Y_train, noise):\n",
    "    ''' Returns a function that computes the negative log-likelihood for training data X_train and Y_train and given noise level. Args: X_train: training locations (m x d). Y_train: training targets (m x 1). noise: known noise level of Y_train. Returns: Minimization objective. '''\n",
    "    def step(theta):\n",
    "        \n",
    "        Y_train_d = Y_train-2*X_train\n",
    "        \n",
    "        K = kernel(X_train, X_train, l=theta[0], sigma_f=theta[1]) + \\\n",
    "            noise**2 * np.eye(len(X_train))\n",
    "        # Compute determinant via Cholesky decomposition\n",
    "        return np.sum(np.log(np.diagonal(cholesky(K)))) + \\\n",
    "               0.5 * Y_train_d.T.dot(inv(K).dot(Y_train_d)) + \\\n",
    "               0.5 * len(X_train) * np.log(2*np.pi)\n",
    "    return step\n",
    "\n",
    "# Minimize the negative log-likelihood w.r.t. parameters l and sigma_f.\n",
    "# We should actually run the minimization several times with different\n",
    "# initializations to avoid local minima but this is skipped here for\n",
    "# simplicity.\n",
    "res = minimize(nll_fn(X_train, Y_train, noise), [1, 1], \n",
    "               bounds=((1e-5, None), (1e-5, None)),\n",
    "               method='L-BFGS-B')\n",
    "\n",
    "print(res)\n",
    "\n",
    "# Store the optimization results in global variables so that we can\n",
    "# compare it later with the results from other implementations.\n",
    "l_opt, sigma_f_opt = res.x\n",
    "\n",
    "# Compute the prosterior predictive statistics with optimized kernel parameters and plot the results\n",
    "mu_s, cov_s = posterior_predictive(X, X_train, Y_train-alpha_opt*X_train, l=l_opt, sigma_f=sigma_f_opt, sigma_y=noise)\n",
    "plot_gp(mu_s+2*X, cov_s, X, X_train=X_train, Y_train=Y_train)\n",
    "\n",
    "plt.plot(X,2.*X+0.3*X**2)"
   ]
  },
  {
   "cell_type": "code",
   "execution_count": null,
   "metadata": {},
   "outputs": [],
   "source": []
  }
 ],
 "metadata": {
  "kernelspec": {
   "display_name": "Python 2",
   "language": "python",
   "name": "python2"
  },
  "language_info": {
   "codemirror_mode": {
    "name": "ipython",
    "version": 2
   },
   "file_extension": ".py",
   "mimetype": "text/x-python",
   "name": "python",
   "nbconvert_exporter": "python",
   "pygments_lexer": "ipython2",
   "version": "2.7.15"
  }
 },
 "nbformat": 4,
 "nbformat_minor": 2
}
